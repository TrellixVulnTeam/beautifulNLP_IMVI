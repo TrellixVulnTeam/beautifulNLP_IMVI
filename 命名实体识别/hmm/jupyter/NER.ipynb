{
 "cells": [
  {
   "cell_type": "code",
   "execution_count": 3,
   "metadata": {},
   "outputs": [],
   "source": [
    "tag2id, id2tag = {}, {}\n",
    "word2id, id2word = {}, {}\n",
    "for line in open('traindata.txt'):\n",
    "    items = line.split('/')\n",
    "    word, tag = items[0], items[1].rstrip()\n",
    "    if word not in word2id:\n",
    "        word2id[word] = len(word2id)\n",
    "        id2word[len(id2word)] = word\n",
    "    if tag not in tag2id:\n",
    "        tag2id[tag] = len(tag2id)\n",
    "        id2tag[len(id2tag)] = tag\n",
    "\n",
    "M = len(word2id)  # the #. of words in dictionary\n",
    "N = len(tag2id)   # the #. of tags in tag set"
   ]
  },
  {
   "cell_type": "code",
   "execution_count": 4,
   "metadata": {},
   "outputs": [],
   "source": [
    "# 构建 Pi A B\n",
    "import numpy as np\n",
    "\n",
    "pi = np.zeros(N)        # 初始状态概率矩阵\n",
    "A = np.zeros((N, M))    # 发射概率矩阵\n",
    "B = np.zeros((N, N))    # 状态转移概率矩阵\n",
    "\n",
    "# 计算矩阵中的对应数据出现的次数\n",
    "prev_tag = ''\n",
    "for line in open('data/traindata.txt'):\n",
    "    items = line.split('/')\n",
    "    wordId, tagId = word2id[items[0]], tag2id[items[1].rstrip()]\n",
    "    if prev_tag == '':\n",
    "        pi[tagId] += 1\n",
    "        A[tagId][wordId] += 1\n",
    "    else:\n",
    "        A[tagId][wordId] += 1\n",
    "        B[tag2id[prev_tag]][tagId] += 1\n",
    "    if items[0] == '.':\n",
    "        prev_tag = ''\n",
    "    else:\n",
    "        prev_tag = id2tag[tagId]\n",
    "\n",
    "# normalize 将统计的个数化成概率\n",
    "pi = pi / sum(pi)\n",
    "for i in range(N):\n",
    "    A[i] /= sum(A[i])\n",
    "    B[i] /= sum(B[i])\n",
    "# 到此为止，计算完了模型的所有参数：pi A B"
   ]
  },
  {
   "cell_type": "code",
   "execution_count": 5,
   "metadata": {},
   "outputs": [],
   "source": [
    "def log(v):\n",
    "    if v == 0:\n",
    "        return np.log(v + 0.00000001)\n",
    "    return np.log(v)"
   ]
  },
  {
   "cell_type": "code",
   "execution_count": 20,
   "metadata": {},
   "outputs": [],
   "source": [
    "# viterbi algorithm \n",
    "def viterbi(x, pi, A, B):\n",
    "    \"\"\"\n",
    "    x: user input string / sentence \n",
    "    pi: initial probability of tags \n",
    "    A: 给定tag,每个单词出现的概率(发射概率)\n",
    "    B: tag之间的转移概率(转移概率)\n",
    "    \"\"\"\n",
    "    x = [word2id[word] for word in x.split(' ')]\n",
    "    T = len(x)\n",
    "    \n",
    "    dp = np.zeros((T, N))\n",
    "    ptr = np.array([[0 for x in range(N)] for y in range(T)])\n",
    "    for j in range(N):\n",
    "        dp[0][j] = log(pi[j]) + log(A[j][x[0]])\n",
    "    for i in range(1, T):\n",
    "        for j in range(N):\n",
    "            dp[i][j] = -9999\n",
    "            for k in range(N):\n",
    "                score = dp[i - 1][k] + log(B[k][j]) + log(A[j][x[i]])\n",
    "                if score > dp[i][j]:\n",
    "                    dp[i][j] = score\n",
    "                    ptr[i][j] = k\n",
    "    # decoding: 把最好的tag sequence打印出来\n",
    "    best_seq = [0] * T  # best_seq = [1, 5, 2, 234,...]\n",
    "    # step1: 找出对应于最后一个单词的词性\n",
    "    best_seq[T - 1] = np.argmax(dp[T - 1])\n",
    "    # step2: 通过从后到前的循环依次求出每个单词的词性\n",
    "    for i in range(T-2, -1, -1):\n",
    "        best_seq[i] = ptr[i + 1][best_seq[i + 1]]\n",
    "    # 到目前为止，best_seq存放了对应于x的词性序列\n",
    "    for i in range(len(best_seq)):\n",
    "        print(id2tag[best_seq[i]])\n",
    "    "
   ]
  },
  {
   "cell_type": "code",
   "execution_count": 21,
   "metadata": {},
   "outputs": [
    {
     "name": "stdout",
     "output_type": "stream",
     "text": [
      "NNP\n",
      "NNP\n",
      "NN\n",
      ",\n",
      "NN\n",
      ".\n"
     ]
    }
   ],
   "source": [
    "x = 'Social Security number , passport .'\n",
    "viterbi(x, pi, A, B)"
   ]
  },
  {
   "cell_type": "code",
   "execution_count": null,
   "metadata": {},
   "outputs": [],
   "source": []
  }
 ],
 "metadata": {
  "kernelspec": {
   "display_name": "Python 3",
   "language": "python",
   "name": "python3"
  },
  "language_info": {
   "codemirror_mode": {
    "name": "ipython",
    "version": 3
   },
   "file_extension": ".py",
   "mimetype": "text/x-python",
   "name": "python",
   "nbconvert_exporter": "python",
   "pygments_lexer": "ipython3",
   "version": "3.6.5"
  }
 },
 "nbformat": 4,
 "nbformat_minor": 2
}
